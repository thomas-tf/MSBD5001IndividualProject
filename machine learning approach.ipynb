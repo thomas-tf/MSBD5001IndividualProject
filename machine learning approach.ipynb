{
 "nbformat": 4,
 "nbformat_minor": 0,
 "metadata": {
  "accelerator": "GPU",
  "colab": {
   "name": "machine learning approach.ipynb",
   "provenance": [],
   "collapsed_sections": [],
   "mount_file_id": "180MbhxoGMkQ23cIzp89YDOf9SEKZ9lE2",
   "authorship_tag": "ABX9TyPTAPhAtdMh91L0lscxc2g5"
  },
  "kernelspec": {
   "name": "python3",
   "language": "python",
   "display_name": "Python 3"
  }
 },
 "cells": [
  {
   "cell_type": "code",
   "metadata": {
    "id": "YXkOzhGxXWCU",
    "executionInfo": {
     "status": "ok",
     "timestamp": 1607175314935,
     "user_tz": -480,
     "elapsed": 2689,
     "user": {
      "displayName": "Lemon - Everything about CS",
      "photoUrl": "https://lh3.googleusercontent.com/a-/AOh14Gju2v_6YA5Ez1dOJdCjiBjsBlH9xDH-yRWjfxTYTQ=s64",
      "userId": "06580329643267778182"
     }
    }
   },
   "source": [
    "import os\n",
    "import holidays\n",
    "import numpy as np\n",
    "import pandas as pd\n",
    "\n",
    "from datetime import datetime, timedelta\n",
    "from sklearn.model_selection import GridSearchCV\n",
    "from sklearn.model_selection import ShuffleSplit"
   ],
   "execution_count": 1,
   "outputs": []
  },
  {
   "cell_type": "code",
   "metadata": {
    "id": "MdTteBKSUEqF",
    "executionInfo": {
     "status": "ok",
     "timestamp": 1607175314935,
     "user_tz": -480,
     "elapsed": 2198,
     "user": {
      "displayName": "Lemon - Everything about CS",
      "photoUrl": "https://lh3.googleusercontent.com/a-/AOh14Gju2v_6YA5Ez1dOJdCjiBjsBlH9xDH-yRWjfxTYTQ=s64",
      "userId": "06580329643267778182"
     }
    }
   },
   "source": [
    "DATA_DIR = '5001'"
   ],
   "execution_count": 2,
   "outputs": []
  },
  {
   "cell_type": "code",
   "metadata": {
    "id": "hoKrLuGxUK3j",
    "executionInfo": {
     "status": "ok",
     "timestamp": 1607175315409,
     "user_tz": -480,
     "elapsed": 2328,
     "user": {
      "displayName": "Lemon - Everything about CS",
      "photoUrl": "https://lh3.googleusercontent.com/a-/AOh14Gju2v_6YA5Ez1dOJdCjiBjsBlH9xDH-yRWjfxTYTQ=s64",
      "userId": "06580329643267778182"
     }
    }
   },
   "source": [
    "train = pd.read_csv(os.path.join(DATA_DIR, 'train.csv'), index_col=[0])\n",
    "test = pd.read_csv(os.path.join(DATA_DIR, 'test.csv'), index_col=[0])\n",
    "submission = pd.read_csv(os.path.join(DATA_DIR, 'sampleSubmission.csv'))"
   ],
   "execution_count": 3,
   "outputs": []
  },
  {
   "cell_type": "code",
   "metadata": {
    "id": "8WrN5rBNXpeM",
    "executionInfo": {
     "status": "ok",
     "timestamp": 1607175315410,
     "user_tz": -480,
     "elapsed": 1441,
     "user": {
      "displayName": "Lemon - Everything about CS",
      "photoUrl": "https://lh3.googleusercontent.com/a-/AOh14Gju2v_6YA5Ez1dOJdCjiBjsBlH9xDH-yRWjfxTYTQ=s64",
      "userId": "06580329643267778182"
     }
    }
   },
   "source": [
    "train['date'] = pd.to_datetime(train['date'], format=\"%d/%m/%Y %H:%M\")\n",
    "test['date'] = pd.to_datetime(test['date'], format=\"%d/%m/%Y %H:%M\")"
   ],
   "execution_count": 4,
   "outputs": []
  },
  {
   "cell_type": "code",
   "metadata": {
    "id": "tQNlARbkY1Iw",
    "executionInfo": {
     "status": "ok",
     "timestamp": 1607175315410,
     "user_tz": -480,
     "elapsed": 957,
     "user": {
      "displayName": "Lemon - Everything about CS",
      "photoUrl": "https://lh3.googleusercontent.com/a-/AOh14Gju2v_6YA5Ez1dOJdCjiBjsBlH9xDH-yRWjfxTYTQ=s64",
      "userId": "06580329643267778182"
     }
    }
   },
   "source": [
    "typhoon_dates = [\n",
    "  '2017-06-12',\n",
    "  '2017-07-23',\n",
    "  '2017-08-23',\n",
    "  '2017-08-27',\n",
    "  '2017-10-15',\n",
    "  '2018-09-16',\n",
    "  '2018-09-17',\n",
    "]"
   ],
   "execution_count": 5,
   "outputs": []
  },
  {
   "cell_type": "code",
   "metadata": {
    "id": "TjuVB0ckYzN5",
    "executionInfo": {
     "status": "ok",
     "timestamp": 1607175315814,
     "user_tz": -480,
     "elapsed": 917,
     "user": {
      "displayName": "Lemon - Everything about CS",
      "photoUrl": "https://lh3.googleusercontent.com/a-/AOh14Gju2v_6YA5Ez1dOJdCjiBjsBlH9xDH-yRWjfxTYTQ=s64",
      "userId": "06580329643267778182"
     }
    }
   },
   "source": [
    "school_holidays_dates = [\n",
    "    '2017-01-01',\n",
    "    '2017-01-02',\n",
    "    '2017-01-26',\n",
    "    '2017-01-27',\n",
    "    '2017-01-28',\n",
    "    '2017-01-29',\n",
    "    '2017-01-30',\n",
    "    '2017-01-31',\n",
    "    '2017-02-01',\n",
    "    '2017-02-02',\n",
    "    '2017-02-03',\n",
    "    '2017-04-04',\n",
    "    '2017-04-14',\n",
    "    '2017-04-15',\n",
    "    '2017-04-16',\n",
    "    '2017-04-17',\n",
    "    '2017-04-18',\n",
    "    '2017-04-19',\n",
    "    '2017-04-20',\n",
    "    '2017-04-21',\n",
    "    '2017-05-01',\n",
    "    '2017-05-03',\n",
    "    '2017-05-30',\n",
    "    '2017-05-30',\n",
    "    '2017-07-17',\n",
    "    '2017-07-18',\n",
    "    '2017-07-19',\n",
    "    '2017-07-20',\n",
    "    '2017-07-21',\n",
    "    '2017-07-22',\n",
    "    '2017-07-23',\n",
    "    '2017-07-24',\n",
    "    '2017-07-25',\n",
    "    '2017-07-26',\n",
    "    '2017-07-27',\n",
    "    '2017-07-28',\n",
    "    '2017-07-29',\n",
    "    '2017-07-30',\n",
    "    '2017-07-31',\n",
    "    '2017-08-01',\n",
    "    '2017-08-02',\n",
    "    '2017-08-03',\n",
    "    '2017-08-04',\n",
    "    '2017-08-05',\n",
    "    '2017-08-06',\n",
    "    '2017-08-07',\n",
    "    '2017-08-08',\n",
    "    '2017-08-09',\n",
    "    '2017-08-10',\n",
    "    '2017-08-11',\n",
    "    '2017-08-12',\n",
    "    '2017-08-13',\n",
    "    '2017-08-14',\n",
    "    '2017-08-15',\n",
    "    '2017-08-16',\n",
    "    '2017-08-17',\n",
    "    '2017-08-18',\n",
    "    '2017-08-19',\n",
    "    '2017-08-20',\n",
    "    '2017-08-21',\n",
    "    '2017-08-22',\n",
    "    '2017-08-23',\n",
    "    '2017-08-24',\n",
    "    '2017-08-25',\n",
    "    '2017-08-26',\n",
    "    '2017-08-27',\n",
    "    '2017-08-28',\n",
    "    '2017-08-29',\n",
    "    '2017-08-30',\n",
    "    '2017-08-31',\n",
    "    '2017-10-02',\n",
    "    '2017-10-05',\n",
    "    '2017-10-28',\n",
    "    '2017-12-22',\n",
    "    '2017-12-23',\n",
    "    '2017-12-24',\n",
    "    '2017-12-25',\n",
    "    '2017-12-26',\n",
    "    '2017-12-27',\n",
    "    '2017-12-28',\n",
    "    '2017-12-29',\n",
    "    '2017-12-30',\n",
    "    '2017-12-31',\n",
    "    '2018-01-01',\n",
    "    '2018-02-13',\n",
    "    '2018-02-14',\n",
    "    '2018-02-15',\n",
    "    '2018-02-16',\n",
    "    '2018-02-17',\n",
    "    '2018-02-18',\n",
    "    '2018-02-19',\n",
    "    '2018-02-20',\n",
    "    '2018-02-21',\n",
    "    '2018-02-22',\n",
    "    '2018-02-23',\n",
    "    '2018-02-24',\n",
    "    '2018-03-29',\n",
    "    '2018-03-30',\n",
    "    '2018-03-31',\n",
    "    '2018-04-01',\n",
    "    '2018-04-02',\n",
    "    '2018-04-03',\n",
    "    '2018-04-04',\n",
    "    '2018-04-05',\n",
    "    '2018-04-06',\n",
    "    '2018-04-07',\n",
    "    '2018-05-01',\n",
    "    '2018-05-22',\n",
    "    '2018-06-18',\n",
    "    '2018-07-02',\n",
    "    '2018-07-13',\n",
    "    '2018-07-14',\n",
    "    '2018-07-15',\n",
    "    '2018-07-16',\n",
    "    '2018-07-17',\n",
    "    '2018-07-18',\n",
    "    '2018-07-19',\n",
    "    '2018-07-20',\n",
    "    '2018-07-21',\n",
    "    '2018-07-22',\n",
    "    '2018-07-23',\n",
    "    '2018-07-24',\n",
    "    '2018-07-25',\n",
    "    '2018-07-26',\n",
    "    '2018-07-27',\n",
    "    '2018-07-28',\n",
    "    '2018-07-29',\n",
    "    '2018-07-30',\n",
    "    '2018-07-31',\n",
    "    '2018-08-01',\n",
    "    '2018-08-02',\n",
    "    '2018-08-03',\n",
    "    '2018-08-04',\n",
    "    '2018-08-05',\n",
    "    '2018-08-06',\n",
    "    '2018-08-07',\n",
    "    '2018-08-08',\n",
    "    '2018-08-09',\n",
    "    '2018-08-10',\n",
    "    '2018-08-11',\n",
    "    '2018-08-12',\n",
    "    '2018-08-13',\n",
    "    '2018-08-14',\n",
    "    '2018-08-15',\n",
    "    '2018-08-16',\n",
    "    '2018-08-17',\n",
    "    '2018-08-18',\n",
    "    '2018-08-19',\n",
    "    '2018-08-20',\n",
    "    '2018-08-21',\n",
    "    '2018-08-22',\n",
    "    '2018-08-23',\n",
    "    '2018-08-24',\n",
    "    '2018-08-25',\n",
    "    '2018-08-26',\n",
    "    '2018-08-27',\n",
    "    '2018-08-28',\n",
    "    '2018-08-29',\n",
    "    '2018-08-30',\n",
    "    '2018-08-31',\n",
    "    '2018-09-01',\n",
    "    '2018-09-02',\n",
    "    '2018-09-25',\n",
    "    '2018-10-01',\n",
    "    '2018-10-17',\n",
    "    '2018-12-24',\n",
    "    '2018-12-25',\n",
    "    '2018-12-26',\n",
    "    '2018-12-27',\n",
    "    '2018-12-28',\n",
    "    '2018-12-29',\n",
    "    '2018-12-30',\n",
    "    '2018-12-31',\n",
    "]"
   ],
   "execution_count": 6,
   "outputs": []
  },
  {
   "cell_type": "code",
   "metadata": {
    "id": "Q0xQXowsi0z6",
    "executionInfo": {
     "status": "ok",
     "timestamp": 1607175316139,
     "user_tz": -480,
     "elapsed": 677,
     "user": {
      "displayName": "Lemon - Everything about CS",
      "photoUrl": "https://lh3.googleusercontent.com/a-/AOh14Gju2v_6YA5Ez1dOJdCjiBjsBlH9xDH-yRWjfxTYTQ=s64",
      "userId": "06580329643267778182"
     }
    }
   },
   "source": [
    "# heavy rain dates taken from: https://www.hko.gov.hk/tc/wxinfo/climat/warndb/warndb3.shtml?opt=3&rcolor=3&start_ym=201612&end_ym=201901&submit=%E6%90%9C%E5%B0%8B\n",
    "heavy_rain_datetime = [\n",
    "    {'start': '2017/05/24 09:15', 'end': '2017/05/24 12:30'},\n",
    "    {'start': '2017/06/13 08:45', 'end': '2017/06/13 11:50'},\n",
    "    {'start': '2017/06/17 02:25', 'end': '2017/06/17 04:05'},\n",
    "    {'start': '2017/07/17 20:45', 'end': '2017/07/17 22:30'},\n",
    "    {'start': '2017/08/03 05:30', 'end': '2017/08/03 07:05'},\n",
    "    {'start': '2018/06/08 11:30', 'end': '2018/06/08 12:30'},\n",
    "    {'start': '2018/08/26 23:05', 'end': '2018/08/27 00:45'},\n",
    "    {'start': '2018/08/29 18:40', 'end': '2018/08/29 21:50'},\n",
    "    {'start': '2018/09/16 10:55', 'end': '2018/09/16 18:50'},\n",
    "]"
   ],
   "execution_count": 7,
   "outputs": []
  },
  {
   "cell_type": "code",
   "metadata": {
    "id": "TQS3ufz3Y5KE",
    "executionInfo": {
     "status": "ok",
     "timestamp": 1607175316883,
     "user_tz": -480,
     "elapsed": 628,
     "user": {
      "displayName": "Lemon - Everything about CS",
      "photoUrl": "https://lh3.googleusercontent.com/a-/AOh14Gju2v_6YA5Ez1dOJdCjiBjsBlH9xDH-yRWjfxTYTQ=s64",
      "userId": "06580329643267778182"
     }
    }
   },
   "source": [
    "typhoons = [datetime.strptime(d, \"%Y-%m-%d\").date() for d in typhoon_dates]\n",
    "school_holidays = [datetime.strptime(d, \"%Y-%m-%d\").date() for d in school_holidays_dates]"
   ],
   "execution_count": 8,
   "outputs": []
  },
  {
   "cell_type": "code",
   "metadata": {
    "id": "qlJqEaE8jwp8",
    "executionInfo": {
     "status": "ok",
     "timestamp": 1607175319446,
     "user_tz": -480,
     "elapsed": 2225,
     "user": {
      "displayName": "Lemon - Everything about CS",
      "photoUrl": "https://lh3.googleusercontent.com/a-/AOh14Gju2v_6YA5Ez1dOJdCjiBjsBlH9xDH-yRWjfxTYTQ=s64",
      "userId": "06580329643267778182"
     }
    }
   },
   "source": [
    "heavy_rains = [{'start': datetime.strptime(d['start'], \"%Y/%m/%d %H:%M\"), 'end': datetime.strptime(d['end'], \"%Y/%m/%d %H:%M\")} for d in heavy_rain_datetime]"
   ],
   "execution_count": 9,
   "outputs": []
  },
  {
   "cell_type": "code",
   "metadata": {
    "id": "upn1x0IqZUnI",
    "executionInfo": {
     "status": "ok",
     "timestamp": 1607175322457,
     "user_tz": -480,
     "elapsed": 717,
     "user": {
      "displayName": "Lemon - Everything about CS",
      "photoUrl": "https://lh3.googleusercontent.com/a-/AOh14Gju2v_6YA5Ez1dOJdCjiBjsBlH9xDH-yRWjfxTYTQ=s64",
      "userId": "06580329643267778182"
     }
    }
   },
   "source": [
    "holiday = holidays.HK()"
   ],
   "execution_count": 10,
   "outputs": []
  },
  {
   "cell_type": "code",
   "metadata": {
    "id": "VIOYco9seK_y",
    "executionInfo": {
     "status": "ok",
     "timestamp": 1607175323224,
     "user_tz": -480,
     "elapsed": 561,
     "user": {
      "displayName": "Lemon - Everything about CS",
      "photoUrl": "https://lh3.googleusercontent.com/a-/AOh14Gju2v_6YA5Ez1dOJdCjiBjsBlH9xDH-yRWjfxTYTQ=s64",
      "userId": "06580329643267778182"
     }
    }
   },
   "source": [
    "def create_time_features(df):\n",
    "    \"\"\"\n",
    "    create time related features\n",
    "    \"\"\"\n",
    "    df['hour'] = df['date'].dt.hour\n",
    "    df['dayofweek'] = df['date'].dt.dayofweek\n",
    "    df['quarter'] = df['date'].dt.quarter\n",
    "    df['month'] = df['date'].dt.month\n",
    "    df['year'] = df['date'].dt.year\n",
    "    df['dayofyear'] = df['date'].dt.dayofyear\n",
    "    df['dayofmonth'] = df['date'].dt.day\n",
    "    df['weekofyear'] = df['date'].dt.isocalendar().week\n",
    "    df['weekofyear'] = df['weekofyear'].astype(int)\n",
    "\n",
    "    return df\n",
    "\n",
    "train = create_time_features(train)\n",
    "test = create_time_features(test)"
   ],
   "execution_count": 11,
   "outputs": []
  },
  {
   "cell_type": "code",
   "metadata": {
    "id": "1vV3MzSdkQO_",
    "executionInfo": {
     "status": "ok",
     "timestamp": 1607175324026,
     "user_tz": -480,
     "elapsed": 514,
     "user": {
      "displayName": "Lemon - Everything about CS",
      "photoUrl": "https://lh3.googleusercontent.com/a-/AOh14Gju2v_6YA5Ez1dOJdCjiBjsBlH9xDH-yRWjfxTYTQ=s64",
      "userId": "06580329643267778182"
     }
    }
   },
   "source": [
    "def is_heavy_rain(row):\n",
    "    date = row.date\n",
    "    for record in heavy_rains:\n",
    "        if record['start'] <= date <= record['end']:\n",
    "            return 1\n",
    "    return 0"
   ],
   "execution_count": 12,
   "outputs": []
  },
  {
   "cell_type": "code",
   "metadata": {
    "id": "NqkbXXy0X1wz",
    "executionInfo": {
     "status": "ok",
     "timestamp": 1607175326249,
     "user_tz": -480,
     "elapsed": 1900,
     "user": {
      "displayName": "Lemon - Everything about CS",
      "photoUrl": "https://lh3.googleusercontent.com/a-/AOh14Gju2v_6YA5Ez1dOJdCjiBjsBlH9xDH-yRWjfxTYTQ=s64",
      "userId": "06580329643267778182"
     }
    }
   },
   "source": [
    "def get_event_features(df):\n",
    "    \"\"\"\n",
    "    create holiday, typhoon and school holiday features\n",
    "    \"\"\"\n",
    "    # holiday feature\n",
    "    dates = list(df['date'])\n",
    "    holidays = []\n",
    "    for date in dates:\n",
    "        holidays.append(int(date in holiday))\n",
    "    df['holiday']=holidays\n",
    "\n",
    "    # typhoon feature\n",
    "    df['typhoon'] = df.apply(lambda x: int(x.date in typhoons), axis=1)\n",
    "\n",
    "    # school holiday feature\n",
    "    df['school_holiday'] = df.apply(lambda x: int(x.date in school_holidays), axis=1)\n",
    "\n",
    "    # heavy rain feature\n",
    "    df['heavy_rain'] = df.apply(is_heavy_rain, axis=1)\n",
    "\n",
    "    return df\n",
    "\n",
    "train = get_event_features(train)\n",
    "test = get_event_features(test)"
   ],
   "execution_count": 13,
   "outputs": []
  },
  {
   "cell_type": "code",
   "metadata": {
    "id": "f-arKcQKt_1k",
    "executionInfo": {
     "status": "ok",
     "timestamp": 1607175326249,
     "user_tz": -480,
     "elapsed": 1168,
     "user": {
      "displayName": "Lemon - Everything about CS",
      "photoUrl": "https://lh3.googleusercontent.com/a-/AOh14Gju2v_6YA5Ez1dOJdCjiBjsBlH9xDH-yRWjfxTYTQ=s64",
      "userId": "06580329643267778182"
     }
    }
   },
   "source": [
    "df = train.append(test).sort_values(\"date\")"
   ],
   "execution_count": 14,
   "outputs": []
  },
  {
   "cell_type": "code",
   "metadata": {
    "id": "qlahkgej55jI",
    "executionInfo": {
     "status": "ok",
     "timestamp": 1607175328552,
     "user_tz": -480,
     "elapsed": 705,
     "user": {
      "displayName": "Lemon - Everything about CS",
      "photoUrl": "https://lh3.googleusercontent.com/a-/AOh14Gju2v_6YA5Ez1dOJdCjiBjsBlH9xDH-yRWjfxTYTQ=s64",
      "userId": "06580329643267778182"
     }
    }
   },
   "source": [
    "def get_stats_features(row):\n",
    "    \"\"\"\n",
    "    Create statstical features:\n",
    "    1. same dayofweek and hour mean\n",
    "    2. same dayofweek and hour std\n",
    "    3. same dayofweek and last hour mean\n",
    "    4. same dayofweek and next hour mean\n",
    "    5. last hour value\n",
    "    6. next hour value\n",
    "    \"\"\"    \n",
    "\n",
    "    hour_mean = df.speed[\n",
    "        (df.dayofweek==row.dayofweek)&\n",
    "        (df.hour==row.hour)&\n",
    "        (df.date<row.date)\n",
    "    ].mean()\n",
    "\n",
    "    hour_std = df.speed[\n",
    "        (df.dayofweek==row.dayofweek)&\n",
    "        (df.hour==row.hour)&\n",
    "        (df.date<row.date)\n",
    "    ].std()\n",
    "\n",
    "    last_hour_mean = df.speed[\n",
    "        (df.dayofweek == row.dayofweek)&\n",
    "        (df.hour == (row.date - timedelta(hours=1)).hour)&\n",
    "        (df.date<row.date)\n",
    "    ].mean()\n",
    "\n",
    "    next_hour_mean = df.speed[\n",
    "        (df.dayofweek == row.dayofweek)&\n",
    "        (df.hour == (row.date + timedelta(hours=1)).hour)&\n",
    "        (df.date<row.date)\n",
    "    ].mean()\n",
    "    \n",
    "    if row.date-timedelta(hours=1) in df.date.values:\n",
    "        last_hour_value = df.speed[df.date==row.date-timedelta(hours=1)].mean()\n",
    "    else:\n",
    "        last_hour_value = np.nan\n",
    "    \n",
    "    if row.date+timedelta(hours=1) in df.date.values:\n",
    "        next_hour_value = df.speed[df.date==row.date+timedelta(hours=1)].mean()\n",
    "    else:\n",
    "        next_hour_value = np.nan\n",
    "\n",
    "    \n",
    "    mean_diff_from_last_hour = last_hour_mean - hour_mean\n",
    "    mean_diff_from_next_hour = next_hour_mean - hour_mean\n",
    "\n",
    "    percentage_change_from_last_hour = (hour_mean - last_hour_mean)/last_hour_mean\n",
    "    percentage_change_from_next_hour = (next_hour_mean - hour_mean)/hour_mean\n",
    "\n",
    "    return hour_mean, hour_std, last_hour_mean, next_hour_mean, last_hour_value, next_hour_value, mean_diff_from_last_hour, mean_diff_from_next_hour, percentage_change_from_last_hour, percentage_change_from_next_hour\n",
    "    "
   ],
   "execution_count": 15,
   "outputs": []
  },
  {
   "cell_type": "code",
   "metadata": {
    "id": "_vppz-Q4AM9U",
    "executionInfo": {
     "status": "ok",
     "timestamp": 1607175439254,
     "user_tz": -480,
     "elapsed": 110049,
     "user": {
      "displayName": "Lemon - Everything about CS",
      "photoUrl": "https://lh3.googleusercontent.com/a-/AOh14Gju2v_6YA5Ez1dOJdCjiBjsBlH9xDH-yRWjfxTYTQ=s64",
      "userId": "06580329643267778182"
     }
    }
   },
   "source": [
    "train[[\n",
    "    'hour_mean', \n",
    "    'hour_std', \n",
    "    'last_hour_mean', \n",
    "    'next_hour_mean', \n",
    "    'last_hour_value', \n",
    "    'next_hour_value', \n",
    "    'mean_diff_from_last_hour', \n",
    "    'mean_diff_from_next_hour', \n",
    "    'percentage_change_from_last_hour', \n",
    "    'percentage_change_from_next_hour'\n",
    "]] = train.apply(get_stats_features, axis=1, result_type=\"expand\")\n",
    "test[[\n",
    "    'hour_mean', \n",
    "    'hour_std', \n",
    "    'last_hour_mean', \n",
    "    'next_hour_mean', \n",
    "    'last_hour_value', \n",
    "    'next_hour_value', \n",
    "    'mean_diff_from_last_hour', \n",
    "    'mean_diff_from_next_hour', \n",
    "    'percentage_change_from_last_hour', \n",
    "    'percentage_change_from_next_hour'\n",
    "]] = test.apply(get_stats_features, axis=1, result_type=\"expand\")"
   ],
   "execution_count": 16,
   "outputs": []
  },
  {
   "cell_type": "code",
   "metadata": {
    "id": "qqq7-bKUPZp7",
    "executionInfo": {
     "status": "ok",
     "timestamp": 1607175439255,
     "user_tz": -480,
     "elapsed": 108962,
     "user": {
      "displayName": "Lemon - Everything about CS",
      "photoUrl": "https://lh3.googleusercontent.com/a-/AOh14Gju2v_6YA5Ez1dOJdCjiBjsBlH9xDH-yRWjfxTYTQ=s64",
      "userId": "06580329643267778182"
     }
    }
   },
   "source": [
    "temperature_2017 = pd.read_csv(os.path.join(os.path.join(DATA_DIR, 'external data'), 'CLMTEMP_KLT_2017.csv'))\n",
    "temperature_2018 = pd.read_csv(os.path.join(os.path.join(DATA_DIR, 'external data'), 'CLMTEMP_KLT_2018.csv'))"
   ],
   "execution_count": 17,
   "outputs": []
  },
  {
   "cell_type": "code",
   "metadata": {
    "id": "77g786pLUIAd",
    "executionInfo": {
     "status": "ok",
     "timestamp": 1607175450125,
     "user_tz": -480,
     "elapsed": 119013,
     "user": {
      "displayName": "Lemon - Everything about CS",
      "photoUrl": "https://lh3.googleusercontent.com/a-/AOh14Gju2v_6YA5Ez1dOJdCjiBjsBlH9xDH-yRWjfxTYTQ=s64",
      "userId": "06580329643267778182"
     }
    }
   },
   "source": [
    "train['temperature'] = train.apply(\n",
    "    lambda x: temperature_2017.temperature[(temperature_2017.month==x.month)&(temperature_2017.day==x.date.day)].mean() if x.year==2017 else temperature_2018.temperature[(temperature_2018.month==x.month)&(temperature_2018.day==x.date.day)].mean(), axis=1\n",
    ")\n",
    "\n",
    "test['temperature'] = test.apply(\n",
    "    lambda x: temperature_2017.temperature[(temperature_2017.month==x.month)&(temperature_2017.day==x.date.day)].mean() if x.year==2017 else temperature_2018.temperature[(temperature_2018.month==x.month)&(temperature_2018.day==x.date.day)].mean(), axis=1\n",
    ")"
   ],
   "execution_count": 18,
   "outputs": []
  },
  {
   "cell_type": "code",
   "metadata": {
    "id": "VnNaBZscjyV3",
    "executionInfo": {
     "status": "ok",
     "timestamp": 1607175450126,
     "user_tz": -480,
     "elapsed": 118132,
     "user": {
      "displayName": "Lemon - Everything about CS",
      "photoUrl": "https://lh3.googleusercontent.com/a-/AOh14Gju2v_6YA5Ez1dOJdCjiBjsBlH9xDH-yRWjfxTYTQ=s64",
      "userId": "06580329643267778182"
     }
    }
   },
   "source": [
    "backup_train = train.copy()\n",
    "backup_test = test.copy()"
   ],
   "execution_count": 19,
   "outputs": []
  },
  {
   "cell_type": "code",
   "metadata": {
    "id": "H6zxJ0Kfj2D4",
    "executionInfo": {
     "status": "ok",
     "timestamp": 1607175450126,
     "user_tz": -480,
     "elapsed": 117693,
     "user": {
      "displayName": "Lemon - Everything about CS",
      "photoUrl": "https://lh3.googleusercontent.com/a-/AOh14Gju2v_6YA5Ez1dOJdCjiBjsBlH9xDH-yRWjfxTYTQ=s64",
      "userId": "06580329643267778182"
     }
    }
   },
   "source": [
    "train = backup_train.copy()\n",
    "test = backup_test.copy()"
   ],
   "execution_count": 20,
   "outputs": []
  },
  {
   "cell_type": "code",
   "metadata": {
    "id": "1-SyyGIlQjNO",
    "executionInfo": {
     "status": "ok",
     "timestamp": 1607175450126,
     "user_tz": -480,
     "elapsed": 116359,
     "user": {
      "displayName": "Lemon - Everything about CS",
      "photoUrl": "https://lh3.googleusercontent.com/a-/AOh14Gju2v_6YA5Ez1dOJdCjiBjsBlH9xDH-yRWjfxTYTQ=s64",
      "userId": "06580329643267778182"
     }
    }
   },
   "source": [
    "train = train[train.date>pd.to_datetime(\"2017-02-01\")]"
   ],
   "execution_count": 21,
   "outputs": []
  },
  {
   "cell_type": "code",
   "metadata": {
    "id": "r042YCX1QOZR",
    "executionInfo": {
     "status": "ok",
     "timestamp": 1607175450127,
     "user_tz": -480,
     "elapsed": 115893,
     "user": {
      "displayName": "Lemon - Everything about CS",
      "photoUrl": "https://lh3.googleusercontent.com/a-/AOh14Gju2v_6YA5Ez1dOJdCjiBjsBlH9xDH-yRWjfxTYTQ=s64",
      "userId": "06580329643267778182"
     }
    }
   },
   "source": [
    "train[\"hour_std\"].fillna(0, inplace=True)\n",
    "test[\"hour_std\"].fillna(0, inplace=True)"
   ],
   "execution_count": 22,
   "outputs": []
  },
  {
   "cell_type": "code",
   "metadata": {
    "id": "Rg2qrqua6Khd",
    "executionInfo": {
     "status": "ok",
     "timestamp": 1607175450128,
     "user_tz": -480,
     "elapsed": 115362,
     "user": {
      "displayName": "Lemon - Everything about CS",
      "photoUrl": "https://lh3.googleusercontent.com/a-/AOh14Gju2v_6YA5Ez1dOJdCjiBjsBlH9xDH-yRWjfxTYTQ=s64",
      "userId": "06580329643267778182"
     }
    }
   },
   "source": [
    "from sklearn.preprocessing import StandardScaler"
   ],
   "execution_count": 23,
   "outputs": []
  },
  {
   "cell_type": "code",
   "metadata": {
    "id": "LcMuVwHsFj42",
    "executionInfo": {
     "status": "ok",
     "timestamp": 1607175450128,
     "user_tz": -480,
     "elapsed": 114948,
     "user": {
      "displayName": "Lemon - Everything about CS",
      "photoUrl": "https://lh3.googleusercontent.com/a-/AOh14Gju2v_6YA5Ez1dOJdCjiBjsBlH9xDH-yRWjfxTYTQ=s64",
      "userId": "06580329643267778182"
     }
    }
   },
   "source": [
    "categorical_features = [\"hour\", \"dayofweek\", \"quarter\", \"month\", \"year\", \"dayofyear\", \"dayofmonth\", \"weekofyear\", \"holiday\", \"typhoon\", \"school_holiday\", \"heavy_rain\"]"
   ],
   "execution_count": 24,
   "outputs": []
  },
  {
   "cell_type": "code",
   "metadata": {
    "colab": {
     "base_uri": "https://localhost:8080/"
    },
    "id": "xmQzYIdGThh5",
    "executionInfo": {
     "status": "ok",
     "timestamp": 1607175450128,
     "user_tz": -480,
     "elapsed": 114495,
     "user": {
      "displayName": "Lemon - Everything about CS",
      "photoUrl": "https://lh3.googleusercontent.com/a-/AOh14Gju2v_6YA5Ez1dOJdCjiBjsBlH9xDH-yRWjfxTYTQ=s64",
      "userId": "06580329643267778182"
     }
    },
    "outputId": "9c71d52a-39c5-4dd0-fb3b-8e6bae9c98db"
   },
   "source": [
    "numerical_features = list(set(train.columns) - {\"date\", \"speed\"} - set(categorical_features))\n",
    "numerical_features"
   ],
   "execution_count": 25,
   "outputs": [
    {
     "data": {
      "text/plain": "['hour_std',\n 'mean_diff_from_last_hour',\n 'percentage_change_from_last_hour',\n 'percentage_change_from_next_hour',\n 'last_hour_value',\n 'hour_mean',\n 'mean_diff_from_next_hour',\n 'last_hour_mean',\n 'next_hour_mean',\n 'temperature',\n 'next_hour_value']"
     },
     "execution_count": 25,
     "metadata": {},
     "output_type": "execute_result"
    }
   ]
  },
  {
   "cell_type": "code",
   "metadata": {
    "id": "rhUQJnpS6NkO",
    "executionInfo": {
     "status": "ok",
     "timestamp": 1607175450129,
     "user_tz": -480,
     "elapsed": 112087,
     "user": {
      "displayName": "Lemon - Everything about CS",
      "photoUrl": "https://lh3.googleusercontent.com/a-/AOh14Gju2v_6YA5Ez1dOJdCjiBjsBlH9xDH-yRWjfxTYTQ=s64",
      "userId": "06580329643267778182"
     }
    }
   },
   "source": [
    "ss = StandardScaler()\n",
    "train[numerical_features] = ss.fit_transform(\n",
    "    train[numerical_features]\n",
    ")"
   ],
   "execution_count": 26,
   "outputs": []
  },
  {
   "cell_type": "code",
   "metadata": {
    "id": "vMgZhfNJ6eKa",
    "executionInfo": {
     "status": "ok",
     "timestamp": 1607175450129,
     "user_tz": -480,
     "elapsed": 111796,
     "user": {
      "displayName": "Lemon - Everything about CS",
      "photoUrl": "https://lh3.googleusercontent.com/a-/AOh14Gju2v_6YA5Ez1dOJdCjiBjsBlH9xDH-yRWjfxTYTQ=s64",
      "userId": "06580329643267778182"
     }
    }
   },
   "source": [
    "test[numerical_features] = ss.transform(\n",
    "    test[numerical_features]\n",
    ")"
   ],
   "execution_count": 27,
   "outputs": []
  },
  {
   "cell_type": "code",
   "metadata": {
    "id": "QgpqHaFcV3o8",
    "executionInfo": {
     "status": "ok",
     "timestamp": 1607175450129,
     "user_tz": -480,
     "elapsed": 111557,
     "user": {
      "displayName": "Lemon - Everything about CS",
      "photoUrl": "https://lh3.googleusercontent.com/a-/AOh14Gju2v_6YA5Ez1dOJdCjiBjsBlH9xDH-yRWjfxTYTQ=s64",
      "userId": "06580329643267778182"
     }
    }
   },
   "source": [
    "train.fillna(-999, inplace=True)\n",
    "test.fillna(-999, inplace=True)"
   ],
   "execution_count": 28,
   "outputs": []
  },
  {
   "cell_type": "code",
   "metadata": {
    "id": "XASlECFj5Xg_",
    "executionInfo": {
     "status": "ok",
     "timestamp": 1607175450130,
     "user_tz": -480,
     "elapsed": 110490,
     "user": {
      "displayName": "Lemon - Everything about CS",
      "photoUrl": "https://lh3.googleusercontent.com/a-/AOh14Gju2v_6YA5Ez1dOJdCjiBjsBlH9xDH-yRWjfxTYTQ=s64",
      "userId": "06580329643267778182"
     }
    }
   },
   "source": [
    "y = train['speed']"
   ],
   "execution_count": 29,
   "outputs": []
  },
  {
   "cell_type": "code",
   "metadata": {
    "id": "rZhf-2qFdNHP",
    "executionInfo": {
     "status": "ok",
     "timestamp": 1607175450130,
     "user_tz": -480,
     "elapsed": 108564,
     "user": {
      "displayName": "Lemon - Everything about CS",
      "photoUrl": "https://lh3.googleusercontent.com/a-/AOh14Gju2v_6YA5Ez1dOJdCjiBjsBlH9xDH-yRWjfxTYTQ=s64",
      "userId": "06580329643267778182"
     }
    }
   },
   "source": [
    "X = train[list(set(train.columns) - {'date', 'speed', 'temperature'})]"
   ],
   "execution_count": 30,
   "outputs": []
  },
  {
   "cell_type": "code",
   "metadata": {
    "id": "A1Q6y6kVikza",
    "executionInfo": {
     "status": "ok",
     "timestamp": 1607175450130,
     "user_tz": -480,
     "elapsed": 108151,
     "user": {
      "displayName": "Lemon - Everything about CS",
      "photoUrl": "https://lh3.googleusercontent.com/a-/AOh14Gju2v_6YA5Ez1dOJdCjiBjsBlH9xDH-yRWjfxTYTQ=s64",
      "userId": "06580329643267778182"
     }
    }
   },
   "source": [
    "import lightgbm as lgb"
   ],
   "execution_count": 31,
   "outputs": []
  },
  {
   "cell_type": "code",
   "metadata": {
    "colab": {
     "base_uri": "https://localhost:8080/"
    },
    "id": "621IgzoplvYy",
    "executionInfo": {
     "status": "ok",
     "timestamp": 1607175463082,
     "user_tz": -480,
     "elapsed": 3392,
     "user": {
      "displayName": "Lemon - Everything about CS",
      "photoUrl": "https://lh3.googleusercontent.com/a-/AOh14Gju2v_6YA5Ez1dOJdCjiBjsBlH9xDH-yRWjfxTYTQ=s64",
      "userId": "06580329643267778182"
     }
    },
    "outputId": "e01a9169-996a-4174-d0fb-1906683dea55"
   },
   "source": [
    "lgb_model = lgb.LGBMRegressor(objective=\"regression\", boosting=\"gbdt\")\n",
    "\n",
    "cv_split = ShuffleSplit(n_splits=5, train_size=0.8, test_size=0.2, random_state=42)\n",
    "\n",
    "# parameters are eliminated by gridsearch\n",
    "param_grid = {\n",
    "    'n_estimators': [100],\n",
    "    'colsample_bytree': [0.7],\n",
    "    'max_depth': [6],\n",
    "    'num_leaves': [50],\n",
    "    'reg_alpha': [0.3],\n",
    "    'reg_lambda': [0.3],\n",
    "}\n",
    "\n",
    "gs = GridSearchCV(\n",
    "    estimator=lgb_model,\n",
    "    param_grid=param_grid, \n",
    "    cv=cv_split, \n",
    "    n_jobs=-1, \n",
    "    scoring='neg_mean_squared_error',\n",
    "    verbose=2\n",
    ")\n",
    "fitted_model = gs.fit(X, y)"
   ],
   "execution_count": 32,
   "outputs": [
    {
     "name": "stdout",
     "output_type": "stream",
     "text": [
      "Fitting 5 folds for each of 1 candidates, totalling 5 fits\n",
      "[LightGBM] [Warning] boosting is set=gbdt, boosting_type=gbdt will be ignored. Current value: boosting=gbdt\n"
     ]
    },
    {
     "name": "stderr",
     "output_type": "stream",
     "text": [
      "[Parallel(n_jobs=-1)]: Using backend LokyBackend with 12 concurrent workers.\n",
      "[Parallel(n_jobs=-1)]: Done   3 out of   5 | elapsed:    1.2s remaining:    0.8s\n",
      "[Parallel(n_jobs=-1)]: Done   5 out of   5 | elapsed:    1.2s finished\n"
     ]
    }
   ]
  },
  {
   "cell_type": "code",
   "metadata": {
    "id": "BQwsOb_1ocRg",
    "colab": {
     "base_uri": "https://localhost:8080/"
    },
    "executionInfo": {
     "status": "ok",
     "timestamp": 1607175463082,
     "user_tz": -480,
     "elapsed": 3039,
     "user": {
      "displayName": "Lemon - Everything about CS",
      "photoUrl": "https://lh3.googleusercontent.com/a-/AOh14Gju2v_6YA5Ez1dOJdCjiBjsBlH9xDH-yRWjfxTYTQ=s64",
      "userId": "06580329643267778182"
     }
    },
    "outputId": "a74919d6-e029-4a24-bb10-4c89ca46f96c"
   },
   "source": [
    "fitted_model.best_score_"
   ],
   "execution_count": 33,
   "outputs": [
    {
     "data": {
      "text/plain": "-9.509334186235957"
     },
     "execution_count": 33,
     "metadata": {},
     "output_type": "execute_result"
    }
   ]
  },
  {
   "cell_type": "code",
   "metadata": {
    "colab": {
     "base_uri": "https://localhost:8080/"
    },
    "id": "T2GZ7rtcxfwl",
    "executionInfo": {
     "status": "ok",
     "timestamp": 1607175471554,
     "user_tz": -480,
     "elapsed": 727,
     "user": {
      "displayName": "Lemon - Everything about CS",
      "photoUrl": "https://lh3.googleusercontent.com/a-/AOh14Gju2v_6YA5Ez1dOJdCjiBjsBlH9xDH-yRWjfxTYTQ=s64",
      "userId": "06580329643267778182"
     }
    },
    "outputId": "c22bf1ad-2840-4047-93a9-5bf00f9b1f61"
   },
   "source": [
    "fitted_model.best_params_"
   ],
   "execution_count": 34,
   "outputs": [
    {
     "data": {
      "text/plain": "{'colsample_bytree': 0.7,\n 'max_depth': 6,\n 'n_estimators': 100,\n 'num_leaves': 50,\n 'reg_alpha': 0.3,\n 'reg_lambda': 0.3}"
     },
     "execution_count": 34,
     "metadata": {},
     "output_type": "execute_result"
    }
   ]
  },
  {
   "cell_type": "code",
   "metadata": {
    "id": "UilPwbiyWn94",
    "executionInfo": {
     "status": "ok",
     "timestamp": 1607175472438,
     "user_tz": -480,
     "elapsed": 521,
     "user": {
      "displayName": "Lemon - Everything about CS",
      "photoUrl": "https://lh3.googleusercontent.com/a-/AOh14Gju2v_6YA5Ez1dOJdCjiBjsBlH9xDH-yRWjfxTYTQ=s64",
      "userId": "06580329643267778182"
     }
    }
   },
   "source": [
    "test['speed'] = fitted_model.predict(test[list(set(train.columns) - {'date', 'speed', 'temperature'})])"
   ],
   "execution_count": 35,
   "outputs": []
  },
  {
   "cell_type": "code",
   "metadata": {
    "id": "gGhvlo4M2PhC",
    "executionInfo": {
     "status": "ok",
     "timestamp": 1607175473436,
     "user_tz": -480,
     "elapsed": 920,
     "user": {
      "displayName": "Lemon - Everything about CS",
      "photoUrl": "https://lh3.googleusercontent.com/a-/AOh14Gju2v_6YA5Ez1dOJdCjiBjsBlH9xDH-yRWjfxTYTQ=s64",
      "userId": "06580329643267778182"
     }
    }
   },
   "source": [
    "test['id'] = test.index"
   ],
   "execution_count": 36,
   "outputs": []
  },
  {
   "cell_type": "code",
   "metadata": {
    "colab": {
     "base_uri": "https://localhost:8080/",
     "height": 235
    },
    "id": "epOLMlfM3jkz",
    "executionInfo": {
     "status": "ok",
     "timestamp": 1607175473729,
     "user_tz": -480,
     "elapsed": 824,
     "user": {
      "displayName": "Lemon - Everything about CS",
      "photoUrl": "https://lh3.googleusercontent.com/a-/AOh14Gju2v_6YA5Ez1dOJdCjiBjsBlH9xDH-yRWjfxTYTQ=s64",
      "userId": "06580329643267778182"
     }
    },
    "outputId": "1c6ad68d-c02d-4a0f-8ede-812196ef43e1"
   },
   "source": [
    "test[['id', 'speed']].head()"
   ],
   "execution_count": 37,
   "outputs": [
    {
     "data": {
      "text/plain": "    id      speed\nid               \n0    0  47.797558\n1    1  47.356355\n2    2  40.079177\n3    3  31.639457\n4    4  41.816361",
      "text/html": "<div>\n<style scoped>\n    .dataframe tbody tr th:only-of-type {\n        vertical-align: middle;\n    }\n\n    .dataframe tbody tr th {\n        vertical-align: top;\n    }\n\n    .dataframe thead th {\n        text-align: right;\n    }\n</style>\n<table border=\"1\" class=\"dataframe\">\n  <thead>\n    <tr style=\"text-align: right;\">\n      <th></th>\n      <th>id</th>\n      <th>speed</th>\n    </tr>\n    <tr>\n      <th>id</th>\n      <th></th>\n      <th></th>\n    </tr>\n  </thead>\n  <tbody>\n    <tr>\n      <th>0</th>\n      <td>0</td>\n      <td>47.797558</td>\n    </tr>\n    <tr>\n      <th>1</th>\n      <td>1</td>\n      <td>47.356355</td>\n    </tr>\n    <tr>\n      <th>2</th>\n      <td>2</td>\n      <td>40.079177</td>\n    </tr>\n    <tr>\n      <th>3</th>\n      <td>3</td>\n      <td>31.639457</td>\n    </tr>\n    <tr>\n      <th>4</th>\n      <td>4</td>\n      <td>41.816361</td>\n    </tr>\n  </tbody>\n</table>\n</div>"
     },
     "execution_count": 37,
     "metadata": {},
     "output_type": "execute_result"
    }
   ]
  },
  {
   "cell_type": "code",
   "metadata": {
    "id": "2l-kUdjWWvGM",
    "executionInfo": {
     "status": "ok",
     "timestamp": 1607175474422,
     "user_tz": -480,
     "elapsed": 486,
     "user": {
      "displayName": "Lemon - Everything about CS",
      "photoUrl": "https://lh3.googleusercontent.com/a-/AOh14Gju2v_6YA5Ez1dOJdCjiBjsBlH9xDH-yRWjfxTYTQ=s64",
      "userId": "06580329643267778182"
     }
    }
   },
   "source": [
    "test[['id', 'speed']].to_csv(os.path.join(DATA_DIR, 'lightgbm.csv'), index=False)"
   ],
   "execution_count": 38,
   "outputs": []
  }
 ]
}